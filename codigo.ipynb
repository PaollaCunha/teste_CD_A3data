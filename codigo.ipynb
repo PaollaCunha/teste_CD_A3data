{
 "cells": [
  {
   "cell_type": "code",
   "execution_count": null,
   "metadata": {},
   "outputs": [],
   "source": [
    "'''13/02/2021: Desafio Técnico - Cientista de Dados - A3DATA\n",
    "               Análise exploratória dos dados de ocorrências aeronáuticas da aviação civil brasileira nos últimos 10 anos.\n",
    "               Obtidos pela CENIPA - Ocorrências Aeronáuticas na Aviação Civil Brasileira'''\n",
    "\n",
    "# Importando os pacotes \n",
    "import numpy as np\n",
    "import matplotlib.pyplot as plt\n",
    "import pandas as pd\n",
    "import seaborn as sns"
   ]
  },
  {
   "cell_type": "code",
   "execution_count": null,
   "metadata": {},
   "outputs": [],
   "source": [
    "from IPython.display import Image\n",
    "Image('modelo_dados.png')"
   ]
  },
  {
   "cell_type": "code",
   "execution_count": null,
   "metadata": {
    "scrolled": true
   },
   "outputs": [],
   "source": [
    "# Importando as bases de dados\n",
    "db_ocor = pd.read_csv(\"ocorrencia.csv\", encoding = 'unicode_escape', sep = ';')\n",
    "db_ocor_tp = pd.read_csv(\"ocorrencia_tipo.csv\", encoding = 'unicode_escape', sep = ';')\n",
    "db_aero = pd.read_csv(\"aeronave.csv\", encoding = 'unicode_escape', sep = ';')\n",
    "db_contr = pd.read_csv(\"fator_contribuinte.csv\", encoding = 'unicode_escape', sep = ';')\n",
    "db_reco = pd.read_csv(\"recomendacao.csv\", encoding = 'unicode_escape', sep = ';')"
   ]
  },
  {
   "cell_type": "code",
   "execution_count": null,
   "metadata": {
    "scrolled": true
   },
   "outputs": [],
   "source": [
    "print('Variáveis da base Ocorrência:\\n',db_ocor.info())\n",
    "print('\\n\\nVariáveis da base Tipo de Ocorrência:\\n',db_ocor_tp.info())\n",
    "print('\\n\\nVariáveis da base Aeronave:\\n',db_aero.info())\n",
    "print('\\n\\nVariáveis da base Fator Contribuinte:\\n',db_contr.info())\n",
    "print('\\n\\nVariáveis da base Recomendação:\\n',db_reco.info())"
   ]
  },
  {
   "cell_type": "markdown",
   "metadata": {},
   "source": [
    "# Análise Geral da Base Ocorrências"
   ]
  },
  {
   "cell_type": "code",
   "execution_count": null,
   "metadata": {},
   "outputs": [],
   "source": [
    "db_ocor.head()"
   ]
  },
  {
   "cell_type": "code",
   "execution_count": null,
   "metadata": {
    "scrolled": true
   },
   "outputs": [],
   "source": [
    "datas = db_ocor[\"ocorrencia_dia\"].astype(\"datetime64\")\n",
    "\n",
    "plt.subplot(2,1,1)\n",
    "datas.groupby([datas.dt.year, datas.dt.month]).count().plot(kind=\"line\", figsize=(8,8), color = 'gray')\n",
    "plt.xlabel(\"Ano, mês das ocorrências\")\n",
    "plt.ylabel(\"Frequência\")\n",
    "plt.title(\"Distribuição das Ocorrências em relação Mês e Ano\")\n",
    "plt.show()\n",
    "\n",
    "plt.subplot(2,1,2)\n",
    "((datas.groupby(datas.dt.year).count().cumsum()/datas.groupby(datas.dt.year).count().sum())*100).plot(kind=\"bar\", figsize=(8,8), color = 'gray')\n",
    "plt.xlabel(\"Ano, mês das ocorrências\")\n",
    "plt.ylabel(\"Frequência  Acumulada\")\n",
    "plt.title(\"Porcentagem das Ocorrências em relação ao Ano\")\n",
    "plt.show()"
   ]
  },
  {
   "cell_type": "code",
   "execution_count": null,
   "metadata": {
    "scrolled": true
   },
   "outputs": [],
   "source": [
    "# Distribuição de Ocorrências por Estado e Cidade\n",
    "x = db_ocor.ocorrencia_cidade.value_counts().index\n",
    "y = db_ocor.ocorrencia_cidade.value_counts().values\n",
    "z = (y.cumsum()/y.sum())*100\n",
    "xn = len(x)\n",
    "\n",
    "print('Entre 2010 e 2019 houveram ocorrências em %.f cidades.'%(xn))\n",
    "\n",
    "plt.figure(1,figsize=(8,8))\n",
    "plt.bar(range(len(x)), z, color = 'gray')\n",
    "plt.plot([0,246],[80,80], color = 'b')\n",
    "plt.plot([246,246],[0,80], color = 'b')\n",
    "plt.ylabel(\"Porcentagem de ocorrência\")\n",
    "plt.xlabel(\"Quantidade de Cidades\")\n",
    "plt.title(\"Porcentagem acumulada das Ocorrências\")\n",
    "plt.show()\n",
    "\n",
    "print('Tem-se que {0:.2f}% das cidades são responsáveis por {1:.2f}% das ocorrências.'.format((246/1045)*100,(z[246])))\n",
    "\n",
    "nome = x[:246]\n",
    "qtd = y[:246]\n",
    "uf = []\n",
    "\n",
    "for i in nome:\n",
    "    ind = db_ocor.ocorrencia_cidade[db_ocor.ocorrencia_cidade==i].index[0]\n",
    "    uf.append(db_ocor.ocorrencia_uf[ind])\n",
    "\n",
    "uf = pd.Series(uf, name='Estados')\n",
    "qtd2=pd.DataFrame(index=range(len(uf.value_counts().index)), columns=['estado','freq'])\n",
    "s=0\n",
    "for j in uf.value_counts().index:\n",
    "    d=0\n",
    "    for i in range(len(uf)):\n",
    "        if uf[i]==j:\n",
    "            d+=qtd[i]\n",
    "    qtd2.estado[s]=j\n",
    "    qtd2.freq[s]=d\n",
    "    s+=1\n",
    "    \n",
    "qtd2.sort_values('freq',inplace=True)\n",
    "\n",
    "a = (db_ocor.ocorrencia_uf.value_counts().values[:-1].sum()/len(db_ocor.ocorrencia_uf))*100\n",
    "b = (db_ocor.ocorrencia_uf.value_counts().values[:4].sum()/db_ocor.ocorrencia_uf.value_counts().values[:-1].sum())*100\n",
    "    \n",
    "plt.figure(2,figsize=(8,8))\n",
    "plt.barh(db_ocor.ocorrencia_uf.value_counts().index,db_ocor.ocorrencia_uf.value_counts().values, color = 'gray')\n",
    "plt.ylabel(\"Estado da ocorrência\")\n",
    "plt.xlabel(\"Número de Ocorrências\")\n",
    "plt.title(\"Distribuição de Ocorrências por Estado\")\n",
    "plt.show()\n",
    "\n",
    "print('Das ocorrências realizadas, {0:.2f}% tiveram estados identificadas. E desses, {1:.2f}% representam os 4 maiores - SP, MG, RJ e PR.'.format(a,b))\n",
    "\n",
    "plt.figure(3,figsize=(8,8))\n",
    "plt.barh(qtd2.estado, qtd2.freq, color = 'gray')\n",
    "plt.ylabel(\"Estado da ocorrência\")\n",
    "plt.xlabel(\"Quantidade de Ocorrências\")\n",
    "plt.title(\"Distribuição por Estado de {0:.2f}% das cidades de maiores frequências\".format((246/1045)*100))\n",
    "plt.show()\n"
   ]
  },
  {
   "cell_type": "code",
   "execution_count": null,
   "metadata": {
    "scrolled": false
   },
   "outputs": [],
   "source": [
    "print('No grupo das 246 cidades:')\n",
    "print(qtd2.estado[-5:])\n",
    "print(((qtd2.freq/qtd2.freq.sum())*100)[-5:])"
   ]
  },
  {
   "cell_type": "code",
   "execution_count": null,
   "metadata": {
    "scrolled": true
   },
   "outputs": [],
   "source": [
    "day = []\n",
    "\n",
    "for i in nome:\n",
    "    ind = db_ocor.ocorrencia_cidade[db_ocor.ocorrencia_cidade==i].index\n",
    "    for j in ind:\n",
    "        day.append(datas[j])\n",
    "\n",
    "day = pd.Series(day, name='Dias')\n",
    "\n",
    "day.groupby([day.dt.year, day.dt.month]).count().plot(kind=\"line\", figsize=(8,8), color = 'gray')\n",
    "\n",
    "plt.subplot(2,1,1)\n",
    "day.groupby([day.dt.year, day.dt.month]).count().plot(kind=\"line\", figsize=(8,8), color = 'gray')\n",
    "plt.xlabel(\"Ano, mês das ocorrências\")\n",
    "plt.ylabel(\"Frequência\")\n",
    "plt.title(\"Distribuição das Ocorrências, de {0:.2f}% das cidades de maiores frequências, em relação Mês e Ano\".format((246/1045)*100))\n",
    "plt.show()\n",
    "\n",
    "plt.subplot(2,1,2)\n",
    "((day.groupby(day.dt.year).count().cumsum()/day.groupby(day.dt.year).count().sum())*100).plot(kind=\"bar\", figsize=(8,8), color = 'gray')\n",
    "plt.xlabel(\"Ano, mês das ocorrências\")\n",
    "plt.ylabel(\"Frequência  Acumulada\")\n",
    "plt.title(\"Porcentagem das Ocorrências, de {0:.2f}% das cidades de maiores frequências, em relação ao Ano\".format((246/1045)*100))\n",
    "plt.show()"
   ]
  },
  {
   "cell_type": "markdown",
   "metadata": {},
   "source": [
    "# Análise Geral da Base Ocorrências_Tipo"
   ]
  },
  {
   "cell_type": "code",
   "execution_count": null,
   "metadata": {},
   "outputs": [],
   "source": [
    "db_ocor_tp.head()"
   ]
  },
  {
   "cell_type": "code",
   "execution_count": null,
   "metadata": {},
   "outputs": [],
   "source": [
    "print(db_ocor_tp.ocorrencia_tipo.value_counts())\n",
    "print(db_ocor_tp.ocorrencia_tipo_categoria.value_counts())\n",
    "print(db_ocor_tp.taxonomia_tipo_icao.value_counts())"
   ]
  },
  {
   "cell_type": "code",
   "execution_count": null,
   "metadata": {
    "scrolled": true
   },
   "outputs": [],
   "source": [
    "# Distribuição de Ocorrências por Tipo de falha\n",
    "x = db_ocor_tp.ocorrencia_tipo.value_counts().index\n",
    "y = db_ocor_tp.ocorrencia_tipo.value_counts().values\n",
    "z = (y.cumsum()/y.sum())*100\n",
    "xn = len(x)\n",
    "\n",
    "print('Entre 2010 e 2019 houveram %.f tipos diferentes de falhas.'%(xn))\n",
    "\n",
    "plt.figure(1,figsize=(8,8))\n",
    "plt.bar(range(len(x)), z, color = 'gray')\n",
    "plt.plot([0,15],[80,80], color = 'b')\n",
    "plt.plot([15,15],[0,80], color = 'b')\n",
    "plt.ylabel(\"Porcentagem de ocorrência\")\n",
    "plt.xlabel(\"Tipos de Falha\")\n",
    "plt.title(\"Porcentagem acumulada das Ocorrências\")\n",
    "plt.show()\n",
    "\n",
    "print('Tem-se que {0:.2f}% das falhas, ou seja, 15 tipos diferentes são responsáveis por {1:.2f}% das ocorrências.'.format((15/77)*100,(z[15])))\n"
   ]
  },
  {
   "cell_type": "code",
   "execution_count": null,
   "metadata": {
    "scrolled": false
   },
   "outputs": [],
   "source": [
    "# Buscando os códigos das ocorrências desses 15 tipos de falhas mais frequentes\n",
    "falha = x[:15]\n",
    "cod_falha = []\n",
    "\n",
    "for i in falha:\n",
    "    ind = db_ocor_tp.ocorrencia_tipo[db_ocor_tp.ocorrencia_tipo==i].index\n",
    "    for j in ind:\n",
    "        cod_falha.append(db_ocor_tp.codigo_ocorrencia1[j])\n",
    "        \n",
    "cod_falha = pd.Series(cod_falha, name='Codigo')\n",
    "\n",
    "# Buscando os códigos das ocorrências das 246 cidades mais frequentes\n",
    "cod_ocor = []\n",
    "\n",
    "for i in nome:\n",
    "    ind = db_ocor.ocorrencia_cidade[db_ocor.ocorrencia_cidade==i].index\n",
    "    for j in ind:\n",
    "        cod_ocor.append(db_ocor.codigo_ocorrencia1[j])\n",
    "        \n",
    "cod_ocor = pd.Series(cod_ocor, name='Codigo')\n",
    "\n",
    "# Comparando os códigos\n",
    "igual=[]\n",
    "for i in cod_falha:\n",
    "    for j in cod_ocor:\n",
    "        if i==j:\n",
    "            igual.append(i)\n",
    "            \n",
    "print('Comparando as ocorrências das 246 cidades mais frequentes com os 15 tipos de falhas, tem-se que {0:.2f}% dessas são iguais.'.format((len(igual)/len(cod_falha))*100))\n",
    "#80,24%"
   ]
  },
  {
   "cell_type": "code",
   "execution_count": null,
   "metadata": {},
   "outputs": [],
   "source": [
    "# Mostrar as ocorrências iguais pela localidade (latitude X longitude) e tipo de falha\n",
    "\n",
    "igual = pd.Series(igual, name='Codigo')\n",
    "db_igual = pd.DataFrame(index = range(len(igual)), columns = ['Latitude', 'Longitude', 'Falha'])\n",
    "db_igual.insert(loc = 0, column = 'Codigo', value = igual.values)\n",
    "for i in igual:\n",
    "    a = np.where(db_ocor.codigo_ocorrencia1 == i)\n",
    "    b = np.where(db_igual.Codigo == i)\n",
    "    c = np.where(db_ocor_tp.codigo_ocorrencia1 == i)\n",
    "    db_igual.Latitude.loc[b] = db_ocor.ocorrencia_latitude.loc[a].values\n",
    "    db_igual.Longitude.loc[b] = db_ocor.ocorrencia_longitude.loc[a].values\n",
    "    db_igual.Falha.loc[b] = str(db_ocor_tp.ocorrencia_tipo.loc[c].values)\n"
   ]
  },
  {
   "cell_type": "code",
   "execution_count": null,
   "metadata": {
    "scrolled": true
   },
   "outputs": [],
   "source": [
    "plt.figure(figsize=(25,25))\n",
    "sns.scatterplot(x=\"Latitude\", y=\"Longitude\",hue=\"Falha\", data=db_igual)\n",
    "plt.title(\"Ocorrências das cidades e tipos de falha de maiores frequências\",fontdict= {'size':26})\n",
    "plt.xlabel(\"Latitude\", fontdict= {'size':26})\n",
    "plt.ylabel(\"Longitude\", fontdict= {'size':26})\n",
    "plt.show()"
   ]
  },
  {
   "cell_type": "code",
   "execution_count": null,
   "metadata": {},
   "outputs": [],
   "source": [
    "# Perda de Controle em voo, colisão com obstaculo durante decolagem e pouso, colisão com obstaculo no solo"
   ]
  },
  {
   "cell_type": "code",
   "execution_count": null,
   "metadata": {},
   "outputs": [],
   "source": [
    "db_igual.insert(loc = 4, column = 'Cidade', value=range(len(igual)))\n",
    "db_igual.insert(loc = 5, column = 'UF', value=range(len(igual)))\n",
    "\n",
    "for i in igual:\n",
    "    a = np.where(db_ocor.codigo_ocorrencia1 == i)\n",
    "    b = np.where(db_igual.Codigo == i)\n",
    "    db_igual.Cidade.loc[b] = db_ocor.ocorrencia_cidade.loc[a].values\n",
    "    db_igual.UF.loc[b] = db_ocor.ocorrencia_uf.loc[a].values"
   ]
  },
  {
   "cell_type": "code",
   "execution_count": null,
   "metadata": {
    "scrolled": true
   },
   "outputs": [],
   "source": [
    "print('Frequencia acumulada de acordo com os Estados, em %')\n",
    "a=(db_igual.UF.value_counts()/db_igual.UF.value_counts().sum())*100\n",
    "print(a.cumsum())"
   ]
  },
  {
   "cell_type": "code",
   "execution_count": null,
   "metadata": {
    "scrolled": true
   },
   "outputs": [],
   "source": [
    "db_igual2 = db_igual.loc[db_igual.UF.isin(['SP','MG','PR','RJ'])]\n",
    "df2 = pd.crosstab(db_igual2.Falha, db_igual2.UF)\n",
    "\n",
    "plt.figure(1, figsize=(12,12))\n",
    "df2.plot(kind = \"barh\", figsize=(12,12),stacked = True, title = \"Falhas nos Estados de maior frequência\")\n",
    "plt.xlabel(\"Tipo de Falha\")\n",
    "plt.ylabel(\"Frequência\")\n",
    "plt.show()"
   ]
  },
  {
   "cell_type": "markdown",
   "metadata": {},
   "source": [
    "# Análise Geral da Base Aeronaves"
   ]
  },
  {
   "cell_type": "code",
   "execution_count": null,
   "metadata": {},
   "outputs": [],
   "source": [
    "db_aero.head()"
   ]
  },
  {
   "cell_type": "code",
   "execution_count": null,
   "metadata": {},
   "outputs": [],
   "source": [
    "print('{0:.2f}% das ocorrências incluiram pelo menos 1 fatalidade.'.format(100-((db_aero.aeronave_fatalidades_total.value_counts()/db_aero.aeronave_fatalidades_total.value_counts().sum())*100)[0]))"
   ]
  },
  {
   "cell_type": "code",
   "execution_count": null,
   "metadata": {},
   "outputs": [],
   "source": [
    "print(db_aero.aeronave_tipo_veiculo.value_counts())\n",
    "print('Das {0} ocorrências com tipo de veículo especificado, houveram 9 tipos e {1:.2f}% foram envolvendo aviões.'.format((db_aero.aeronave_tipo_veiculo.shape[0]-81),(4268/5222)*100))"
   ]
  },
  {
   "cell_type": "code",
   "execution_count": null,
   "metadata": {},
   "outputs": [],
   "source": [
    "db_aero2 = db_aero.loc[db_aero.aeronave_tipo_veiculo.isin(['AVIÃO'])]\n",
    "print(db_aero2.aeronave_fabricante.value_counts())\n",
    "print(db_aero2.aeronave_ano_fabricacao.value_counts())"
   ]
  },
  {
   "cell_type": "code",
   "execution_count": null,
   "metadata": {
    "scrolled": true
   },
   "outputs": [],
   "source": [
    "fig, ax1 = plt.subplots(figsize=(8,8))\n",
    "ax2 = ax1.twinx()\n",
    "ax1.bar(db_aero2.aeronave_fabricante.value_counts().index[:8],db_aero2.aeronave_fabricante.value_counts()[:8].values, color = 'gray')\n",
    "ax2.plot(db_aero2.aeronave_fabricante.value_counts().index[:8],((db_aero2.aeronave_fabricante.value_counts()/db_aero2.aeronave_fabricante.value_counts().sum())*100).cumsum()[:8].values, color = 'b')\n",
    "ax1.set_xlabel(\"Fabricante\")\n",
    "ax1.set_ylabel(\"Número de Ocorrências\")\n",
    "ax2.set_ylabel(\"Frequência Acumulada\")\n",
    "for tick in ax1.get_xticklabels():\n",
    "    tick.set_rotation(55)\n",
    "fig.align_labels() \n",
    "plt.title('Distribuição das Ocorrências pelo Fabricante do Avião')\n",
    "plt.show()\n",
    "\n",
    "print('Das ocorrências que envolveram aviões (80% do total) {0:.2f}% foram com apenas 8 Fabricantes (de um total de 113).'.format(((db_aero2.aeronave_fabricante.value_counts()/db_aero2.aeronave_fabricante.value_counts().sum())*100).cumsum().values[8]))"
   ]
  },
  {
   "cell_type": "code",
   "execution_count": null,
   "metadata": {
    "scrolled": true
   },
   "outputs": [],
   "source": [
    "fabri = db_aero2.aeronave_fabricante.value_counts().index[:8]\n",
    "db_aero3 = db_aero2.loc[db_aero2.aeronave_fabricante.isin(fabri)]\n",
    "#print((db_aero3.aeronave_ano_fabricacao.value_counts()/db_aero3.aeronave_ano_fabricacao.value_counts().sum()).cumsum())\n",
    "db_aero3"
   ]
  },
  {
   "cell_type": "code",
   "execution_count": null,
   "metadata": {},
   "outputs": [],
   "source": [
    "db_aero3.aeronave_motor_tipo.value_counts()"
   ]
  },
  {
   "cell_type": "code",
   "execution_count": null,
   "metadata": {
    "scrolled": true
   },
   "outputs": [],
   "source": [
    "db_aero3 = db_aero3.drop(db_aero3[db_aero3.aeronave_motor_tipo == '***'].index)\n",
    "df3 = pd.crosstab(db_aero3.aeronave_fabricante, db_aero3.aeronave_motor_tipo)\n",
    "\n",
    "print('Entre os tipos de falha, FALHA DO MOTOR EM VOO é o 3º mais frequente. Assim, o gráfico a seguir analisa o tipo do motor dentre os Fabricantes que obtiveram mais ocorrências')\n",
    "\n",
    "plt.figure(1, figsize=(12,12))\n",
    "df3.plot(kind = \"barh\", figsize=(12,12),stacked = True, title = \"Tipo do motor pelos Fabricantes de maiores frequências\")\n",
    "plt.xlabel(\"Quantidade de Ocorrências\")\n",
    "plt.ylabel(\"Fabricante\")\n",
    "plt.show()"
   ]
  },
  {
   "cell_type": "code",
   "execution_count": null,
   "metadata": {
    "scrolled": true
   },
   "outputs": [],
   "source": [
    "db_igual.insert(loc = 6, column = 'Veiculo', value=range(len(igual)))\n",
    "db_igual.insert(loc = 7, column = 'Fabricante', value=range(len(igual)))\n",
    "db_igual.insert(loc = 8, column = 'ano_fabricacao', value=range(len(igual)))\n",
    "\n",
    "for i in igual:\n",
    "    a = np.where(db_ocor.codigo_ocorrencia1 == i)\n",
    "    b = int(db_ocor.codigo_ocorrencia2.loc[a].values)\n",
    "    c = np.where(db_aero.codigo_ocorrencia2 == b)\n",
    "    d = np.where(db_igual.Codigo == i)\n",
    "    if len(db_aero.aeronave_tipo_veiculo.loc[c].values)>1:\n",
    "        db_igual.Veiculo.loc[d] = db_aero.aeronave_tipo_veiculo.loc[c].values[0]\n",
    "        db_igual.Fabricante.loc[d] = db_aero.aeronave_fabricante.loc[c].values[0]\n",
    "        db_igual.ano_fabricacao.loc[d] = db_aero.aeronave_ano_fabricacao.loc[c].values[0]\n",
    "    else:        \n",
    "        db_igual.Veiculo.loc[d] = db_aero.aeronave_tipo_veiculo.loc[c].values\n",
    "        db_igual.Fabricante.loc[d] = db_aero.aeronave_fabricante.loc[c].values\n",
    "        db_igual.ano_fabricacao.loc[d] = db_aero.aeronave_ano_fabricacao.loc[c].values"
   ]
  },
  {
   "cell_type": "code",
   "execution_count": null,
   "metadata": {},
   "outputs": [],
   "source": [
    "print((db_igual.Veiculo.value_counts()/db_igual.Veiculo.value_counts().sum()).cumsum())\n",
    "print((db_igual.Fabricante.value_counts()/db_igual.Fabricante.value_counts().sum()).cumsum())\n",
    "print((db_igual.ano_fabricacao.value_counts()/db_igual.ano_fabricacao.value_counts().sum()).cumsum())"
   ]
  },
  {
   "cell_type": "code",
   "execution_count": null,
   "metadata": {},
   "outputs": [],
   "source": [
    "print('Dentre as ocorrências sucedidas em 23% das cidades, 83.66% foram com aviões, as 8 maiores fabricantes detêm 66.64% dessas ocorrências.')\n"
   ]
  },
  {
   "cell_type": "markdown",
   "metadata": {},
   "source": [
    "# Análise Geral da Base Fator Contribuinte"
   ]
  },
  {
   "cell_type": "code",
   "execution_count": null,
   "metadata": {},
   "outputs": [],
   "source": [
    "db_contr.head()"
   ]
  },
  {
   "cell_type": "code",
   "execution_count": null,
   "metadata": {
    "scrolled": true
   },
   "outputs": [],
   "source": [
    "print(db_contr.fator_nome.value_counts())\n",
    "print(db_contr.fator_aspecto.value_counts())\n",
    "print(db_contr.fator_condicionante.value_counts())\n",
    "print(db_contr.fator_area.value_counts())"
   ]
  },
  {
   "cell_type": "code",
   "execution_count": null,
   "metadata": {},
   "outputs": [],
   "source": [
    "print('66.08% das ocorrências que tiveram o Fator classificado foram de Fator Operacional.')\n",
    "print('Fator Humano com 33.30% das ocorrências classificadas')"
   ]
  },
  {
   "cell_type": "code",
   "execution_count": null,
   "metadata": {},
   "outputs": [],
   "source": [
    "db_contr3 = db_contr.loc[db_contr.fator_area.isin(['FATOR OPERACIONAL'])]\n",
    "print('Há {0} tipos de Fator Operacional contribuinte para as falhas.'.format(len(db_contr3.fator_nome.value_counts().index)))"
   ]
  },
  {
   "cell_type": "code",
   "execution_count": null,
   "metadata": {
    "scrolled": true
   },
   "outputs": [],
   "source": [
    "fig, ax1 = plt.subplots(figsize=(8,8))\n",
    "ax2 = ax1.twinx()\n",
    "ax1.bar(db_contr3.fator_nome.value_counts().index[:7],db_contr3.fator_nome.value_counts().values[:7], color = 'gray')\n",
    "ax2.plot(db_contr3.fator_nome.value_counts().index[:7],((db_contr3.fator_nome.value_counts()/db_contr3.fator_nome.value_counts().sum())*100).cumsum()[:7].values, color = 'b')\n",
    "ax1.set_ylabel(\"Quantidade de Ocorrências\")\n",
    "ax1.set_xlabel(\"Fator Contribuinte\")\n",
    "ax2.set_ylabel(\"Frequência Acumulada\")\n",
    "plt.title('Análise Fator Operacional')\n",
    "for tick in ax1.get_xticklabels():\n",
    "    tick.set_rotation(55)\n",
    "fig.align_labels() \n",
    "plt.show()"
   ]
  },
  {
   "cell_type": "code",
   "execution_count": null,
   "metadata": {},
   "outputs": [],
   "source": [
    "db_contr4 = db_contr.loc[db_contr.fator_area.isin(['FATOR HUMANO'])]\n",
    "print('Dentro de Fator humano segue as 10 causas mais frequentes (%):')\n",
    "print(((db_contr4.fator_nome.value_counts()/db_contr4.fator_nome.value_counts().sum())*100)[:10])"
   ]
  },
  {
   "cell_type": "code",
   "execution_count": null,
   "metadata": {
    "scrolled": true
   },
   "outputs": [],
   "source": [
    "db_igual.insert(loc = 9, column = 'fator_area', value=range(len(igual)))\n",
    "db_igual.insert(loc = 10, column = 'fator_aspecto', value=range(len(igual)))\n",
    "d=0\n",
    "for i in igual:\n",
    "    c = np.where(db_contr.codigo_ocorrencia3 == i)\n",
    "    if len(db_contr.fator_area.loc[c].values)>1:\n",
    "        db_igual.fator_area.loc[d] = db_contr.fator_area.loc[c].values[0]\n",
    "        db_igual.fator_aspecto.loc[d] = db_contr.fator_aspecto.loc[c].values[0]\n",
    "        d+=1\n",
    "    else:\n",
    "        db_igual.fator_area.loc[d] = db_contr.fator_area.loc[c].values\n",
    "        db_igual.fator_aspecto.loc[d] = db_contr.fator_aspecto.loc[c].values\n",
    "        d+=1"
   ]
  },
  {
   "cell_type": "code",
   "execution_count": null,
   "metadata": {},
   "outputs": [],
   "source": [
    "print('Dentre as ocorrências das 146 cidades já selecionadas, temos:\\n',db_igual.fator_area.value_counts()[:6])"
   ]
  },
  {
   "cell_type": "markdown",
   "metadata": {},
   "source": [
    "# Análise Geral da Base Recomendação"
   ]
  },
  {
   "cell_type": "code",
   "execution_count": null,
   "metadata": {},
   "outputs": [],
   "source": [
    "db_reco.head()"
   ]
  },
  {
   "cell_type": "code",
   "execution_count": null,
   "metadata": {
    "scrolled": true
   },
   "outputs": [],
   "source": [
    "print(db_reco.recomendacao_status.value_counts()/db_reco.recomendacao_status.value_counts().sum())\n",
    "print(db_reco.recomendacao_destinatario_sigla.value_counts()/db_reco.recomendacao_destinatario_sigla.value_counts().sum())\n",
    "print('Do total de {0} recomendações realizadas, 60.1% foram cumpridas e 7.17% de forma alternativa.'.format(db_reco.shape[0]))\n",
    "print('Em relação ao orgão de destino, 81.72% foram para a ANAC.')"
   ]
  },
  {
   "cell_type": "code",
   "execution_count": null,
   "metadata": {
    "scrolled": true
   },
   "outputs": [],
   "source": [
    "db_reco2 = db_reco.loc[db_reco.recomendacao_status.isin(['CUMPRIDA','CUMPRIDA DE FORMA ALTERNATIVA'])]\n",
    "print(db_reco2.recomendacao_destinatario_sigla.value_counts()/db_reco2.recomendacao_destinatario_sigla.value_counts().sum())"
   ]
  },
  {
   "cell_type": "code",
   "execution_count": null,
   "metadata": {
    "scrolled": true
   },
   "outputs": [],
   "source": [
    "db_reco2.insert(loc = 9, column = 'ocorrencia_dia', value=range(len(db_reco2.recomendacao_status)))\n",
    "db_reco2.insert(loc = 10, column = 'ocorrencia_tipo', value=range(len(db_reco2.recomendacao_status)))\n",
    "\n",
    "for i in db_reco2.index:\n",
    "    c = np.where(db_ocor.codigo_ocorrencia4 == db_reco2.codigo_ocorrencia4[i])\n",
    "    db_reco2.ocorrencia_dia.loc[i] = db_ocor.ocorrencia_dia.loc[c].values\n",
    "    db_reco2.ocorrencia_tipo.loc[i] = db_ocor_tp.ocorrencia_tipo.loc[c].values\n",
    "    "
   ]
  },
  {
   "cell_type": "code",
   "execution_count": null,
   "metadata": {
    "scrolled": true
   },
   "outputs": [],
   "source": [
    "print('Tipos de falha entre as recomendações Cumpridas:\\n',db_reco2.ocorrencia_tipo.value_counts()/db_reco2.ocorrencia_tipo.value_counts().sum())"
   ]
  },
  {
   "cell_type": "code",
   "execution_count": null,
   "metadata": {},
   "outputs": [],
   "source": [
    "db_reco2.ocorrencia_dia[3]"
   ]
  },
  {
   "cell_type": "code",
   "execution_count": null,
   "metadata": {},
   "outputs": [],
   "source": [
    "db_reco3 = db_reco.loc[db_reco.recomendacao_status.isin(['NÃO CUMPRIDA'])]\n",
    "print('As recomendações foram direcionadas a 83 orgãos diferentes, {0} não foram cumpridas somente pela ANAC e DECEA'.format(db_reco3.shape[0]))\n",
    "print(db_reco3.recomendacao_destinatario_sigla.value_counts()/db_reco3.recomendacao_destinatario_sigla.value_counts().sum())"
   ]
  },
  {
   "cell_type": "code",
   "execution_count": null,
   "metadata": {},
   "outputs": [],
   "source": [
    "db_reco3.insert(loc = 9, column = 'ocorrencia_dia', value=range(len(db_reco3.recomendacao_status)))\n",
    "db_reco3.insert(loc = 10, column = 'ocorrencia_tipo', value=range(len(db_reco3.recomendacao_status)))\n",
    "\n",
    "for i in db_reco3.index:\n",
    "    c = np.where(db_ocor.codigo_ocorrencia4 == db_reco3.codigo_ocorrencia4[i])\n",
    "    db_reco3.ocorrencia_dia.loc[i] = db_ocor.ocorrencia_dia.loc[c].values\n",
    "    db_reco3.ocorrencia_tipo.loc[i] = db_ocor_tp.ocorrencia_tipo.loc[c].values\n",
    "    "
   ]
  },
  {
   "cell_type": "code",
   "execution_count": null,
   "metadata": {
    "scrolled": true
   },
   "outputs": [],
   "source": [
    "db_reco3.ocorrencia_tipo = db_reco3.ocorrencia_tipo.astype(\"str\")\n",
    "df4 = pd.crosstab(db_reco3.ocorrencia_tipo, db_reco3.recomendacao_destinatario_sigla)\n",
    "df4.sort_values('ANAC',inplace=True)\n",
    "plt.figure(1, figsize=(12,12))\n",
    "df4.plot(kind = \"barh\", figsize=(12,12),stacked = True, title = \"Tipos de Falhas com recomendações não cumpridas\")\n",
    "plt.xlabel(\"Quantidade de Ocorrências\")\n",
    "plt.ylabel(\"Tipo de falha\")\n",
    "plt.show()"
   ]
  },
  {
   "cell_type": "code",
   "execution_count": null,
   "metadata": {},
   "outputs": [],
   "source": [
    "db_igual.insert(loc = 11, column = 'reco_status', value=range(len(igual)))\n",
    "db_igual.insert(loc = 12, column = 'reco_dest_sigla', value=range(len(igual)))\n",
    "db_igual.insert(loc = 13, column = 'reco_cont', value=range(len(igual)))\n",
    "d=0\n",
    "for i in igual:\n",
    "    c = np.where(db_reco.codigo_ocorrencia4 == i)\n",
    "    if len(db_contr.fator_area.loc[c].values)>1:\n",
    "        db_igual.reco_status.loc[d] = db_reco.recomendacao_status.loc[c].values[0]\n",
    "        db_igual.reco_dest_sigla.loc[d] = db_reco.recomendacao_destinatario_sigla.loc[c].values[0]\n",
    "        db_igual.reco_cont.loc[d] = db_reco.recomendacao_conteudo.loc[c].values[0]\n",
    "        d+=1\n",
    "    else:\n",
    "        db_igual.reco_status.loc[d] = db_reco.recomendacao_status.loc[c].values\n",
    "        db_igual.reco_dest_sigla.loc[d] = db_reco.recomendacao_destinatario_sigla.loc[c].values\n",
    "        db_igual.reco_cont.loc[d] = db_reco.recomendacao_conteudo.loc[c].values\n",
    "        d+=1"
   ]
  },
  {
   "cell_type": "code",
   "execution_count": null,
   "metadata": {
    "scrolled": true
   },
   "outputs": [],
   "source": [
    "print('Dentre as ocorrências das 146 cidades:\\n',db_igual.reco_status.value_counts()[:8]/db_igual.reco_status.value_counts()[:8].sum())"
   ]
  },
  {
   "cell_type": "code",
   "execution_count": null,
   "metadata": {
    "scrolled": true
   },
   "outputs": [],
   "source": [
    "db_igual.reco_status = db_igual.reco_status.astype('str')\n",
    "db_igual1 = db_igual.loc[db_igual.reco_status.isin(['CUMPRIDA','[CUMPRIDA]','CUMPRIDA DE FORMA ALTERNATIVA','[CUMPRIDA DE FORMA ALTERNATIVA]'])]\n",
    "print('Tipo de falha das recomendações cumpridas:\\n',db_igual1.Falha.value_counts())"
   ]
  },
  {
   "cell_type": "code",
   "execution_count": null,
   "metadata": {
    "scrolled": true
   },
   "outputs": [],
   "source": [
    "db_igual1b = db_igual1.loc[db_igual1.UF.isin(['SP','RS','MT','PA'])]\n",
    "print('Frequência dos estados com recomendações cumpridas dentre as 246 ciades:\\n',db_igual1.UF.value_counts()/db_igual1.UF.value_counts().sum())\n",
    "print('Tipo de falha das recomendações cumpridas para 4 estados:\\n',db_igual1b.Falha.value_counts())"
   ]
  },
  {
   "cell_type": "code",
   "execution_count": null,
   "metadata": {},
   "outputs": [],
   "source": [
    "df5 = pd.crosstab(db_igual1b.Falha, db_igual1b.UF)\n",
    "df5.sort_values('SP',inplace=True)\n",
    "plt.figure(1, figsize=(8,8))\n",
    "df5.plot(kind = \"barh\", figsize=(12,12),stacked = True, title = \"Tipos de Falhas com recomendações cumpridas\")\n",
    "plt.xlabel(\"Quantidade de Ocorrências\")\n",
    "plt.ylabel(\"Tipo de falha\")\n",
    "plt.show()"
   ]
  },
  {
   "cell_type": "code",
   "execution_count": null,
   "metadata": {
    "scrolled": true
   },
   "outputs": [],
   "source": [
    "db_igual2 = db_igual.loc[db_igual.reco_status.isin(['NÃO CUMPRIDA','[NÃO CUMPRIDA]'])]\n",
    "print('Tipo de falha das recomendações não cumpridas:\\n',db_igual2.Falha.value_counts())"
   ]
  },
  {
   "cell_type": "code",
   "execution_count": null,
   "metadata": {
    "scrolled": true
   },
   "outputs": [],
   "source": [
    "print('Cidades com recomendações não cumpridas:\\n',db_igual2.Cidade.value_counts())"
   ]
  },
  {
   "cell_type": "code",
   "execution_count": null,
   "metadata": {},
   "outputs": [],
   "source": [
    "print(db_igual2.Falha.loc[db_igual2.Cidade.isin(['SÃO PAULO'])])\n",
    "print('Foram em diferentes ocorrências e tipos de falhas.')"
   ]
  },
  {
   "cell_type": "code",
   "execution_count": null,
   "metadata": {},
   "outputs": [],
   "source": []
  }
 ],
 "metadata": {
  "kernelspec": {
   "display_name": "Python 3",
   "language": "python",
   "name": "python3"
  },
  "language_info": {
   "codemirror_mode": {
    "name": "ipython",
    "version": 3
   },
   "file_extension": ".py",
   "mimetype": "text/x-python",
   "name": "python",
   "nbconvert_exporter": "python",
   "pygments_lexer": "ipython3",
   "version": "3.6.5"
  }
 },
 "nbformat": 4,
 "nbformat_minor": 4
}
